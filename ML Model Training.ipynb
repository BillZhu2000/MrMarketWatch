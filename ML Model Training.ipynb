{
 "cells": [
  {
   "cell_type": "code",
   "execution_count": 96,
   "metadata": {},
   "outputs": [],
   "source": [
    "# Machine learning classification libraries\n",
    "from sklearn.svm import SVC\n",
    "from sklearn.metrics import scorer\n",
    "from sklearn.metrics import accuracy_score\n",
    "\n",
    "import pandas as pd\n",
    "import numpy as np\n",
    "from datetime import datetime\n",
    "import matplotlib.pyplot as plt"
   ]
  },
  {
   "cell_type": "code",
   "execution_count": 97,
   "metadata": {},
   "outputs": [],
   "source": [
    "AAPL_data = pd.read_csv('./rsc/AAPL_data.csv')\n",
    "AAPL_data = AAPL_data.dropna()"
   ]
  },
  {
   "cell_type": "code",
   "execution_count": null,
   "metadata": {},
   "outputs": [],
   "source": []
  },
  {
   "cell_type": "code",
   "execution_count": 98,
   "metadata": {},
   "outputs": [
    {
     "name": "stdout",
     "output_type": "stream",
     "text": [
      "[ 1  1  1  1 -1  1  1  1  1  1]\n"
     ]
    }
   ],
   "source": [
    "# +1 means buy -1 means hold\n",
    "# use this to evalute whether the algorithm can tell whether to buy or hold\n",
    "y = np.where(AAPL_data['close'].shift(-1) > AAPL_data['close'],1,-1)\n",
    "print(y[0:10])"
   ]
  },
  {
   "cell_type": "code",
   "execution_count": 99,
   "metadata": {},
   "outputs": [
    {
     "name": "stdout",
     "output_type": "stream",
     "text": [
      "Index(['20_day_sma', 'close', 'ewma_12', 'ewma_26', 'high', 'low', 'obv_10',\n",
      "       'open', 'rsi_14', 'volume'],\n",
      "      dtype='object')\n"
     ]
    }
   ],
   "source": [
    "print(AAPL_data.columns[1:len(AAPL_data)])"
   ]
  },
  {
   "cell_type": "code",
   "execution_count": 100,
   "metadata": {},
   "outputs": [],
   "source": [
    "# X dataset contains predictor variables to predict target variable y\n",
    "# \n",
    "AAPL_data['Open-Close'] = AAPL_data.open - AAPL_data.close\n",
    "AAPL_data['High-Low'] = AAPL_data.high - AAPL_data.low\n",
    " \n",
    "X=AAPL_data[AAPL_data.columns[1:]]"
   ]
  },
  {
   "cell_type": "code",
   "execution_count": 101,
   "metadata": {},
   "outputs": [],
   "source": [
    "split_percentage = 0.8\n",
    "split = int(split_percentage*len(AAPL_data))\n",
    "\n",
    "# Train data set\n",
    "X_train = X[:split]\n",
    "y_train = y[:split]\n",
    " \n",
    "# Test data set\n",
    "X_test = X[split:]\n",
    "y_test = y[split:]"
   ]
  },
  {
   "cell_type": "code",
   "execution_count": 102,
   "metadata": {},
   "outputs": [],
   "source": [
    "cls = SVC().fit(X_train, y_train)"
   ]
  },
  {
   "cell_type": "code",
   "execution_count": 103,
   "metadata": {},
   "outputs": [
    {
     "name": "stdout",
     "output_type": "stream",
     "text": [
      "\n",
      "Train Accuracy: 100.00%\n",
      "Test Accuracy: 52.78%\n"
     ]
    }
   ],
   "source": [
    "# compare accuracy by comparing actual values of trading signal with predicted values of trading signal\n",
    "#\n",
    "accuracy_train = accuracy_score(y_train, cls.predict(X_train))\n",
    " \n",
    "accuracy_test = accuracy_score(y_test, cls.predict(X_test))\n",
    "print('\\nTrain Accuracy:{: .2f}%'.format(accuracy_train*100))\n",
    "print('Test Accuracy:{: .2f}%'.format(accuracy_test*100))"
   ]
  },
  {
   "cell_type": "code",
   "execution_count": 104,
   "metadata": {},
   "outputs": [
    {
     "data": {
      "image/png": "[encoded data removed]",
      "text/plain": [
       "<Figure size 720x360 with 1 Axes>"
      ]
     },
     "metadata": {},
     "output_type": "display_data"
    }
   ],
   "source": [
    "# predict the buy/sell signals of the test dataset\n",
    "# evalute against the model in the train dataset in the next day\n",
    "AAPL_data['Predicted_Signal'] = cls.predict(X)\n",
    " \n",
    "# Calculate log returns\n",
    "AAPL_data['Return'] = np.log(AAPL_data.close.shift(-1) / AAPL_data.close)*100\n",
    "AAPL_data['Strategy_Return'] = AAPL_data.Return * AAPL_data.Predicted_Signal\n",
    "AAPL_data.Strategy_Return.iloc[split:].cumsum().plot(figsize=(10,5))\n",
    "plt.ylabel(\"Strategy Returns (%)\")\n",
    "plt.show()"
   ]
  },
  {
   "cell_type": "code",
   "execution_count": 105,
   "metadata": {},
   "outputs": [],
   "source": [
    "from sklearn.model_selection import KFold\n",
    "from sklearn.linear_model import LogisticRegression\n",
    "from sklearn.ensemble import RandomForestClassifier"
   ]
  },
  {
   "cell_type": "code",
   "execution_count": 114,
   "metadata": {},
   "outputs": [],
   "source": [
    "def classification_model(model, data, predictors, outcome):\n",
    "    # fit the model\n",
    "    model.fit(data[predictors], outcome)\n",
    "    \n",
    "    # Make predictions on the training set\n",
    "    predictions = model.predict(data[predictors])\n",
    "    \n",
    "    # Print accuracy\n",
    "    accuracy = accuracy_score(predictions, outcome)\n",
    "    print(\"Accuracy : %s\" % \"{0:.2%}\".format(accuracy))\n",
    "    \n",
    "     # Perform k-fold cross-validation with 5 folds\n",
    "    kf = KFold(n_splits=5)\n",
    "    error = []\n",
    "    for train, test in kf.split(outcome):\n",
    "        # Filter training data\n",
    "        train_predictors = (data[predictors].iloc[train, :])\n",
    "\n",
    "        # The target we're using to train the algorithm.\n",
    "        train_target = outcome[train]\n",
    "\n",
    "        # Training the algorithm using the predictors and target.\n",
    "        model.fit(train_predictors, train_target)\n",
    "\n",
    "        # Record error from each cross-validation run\n",
    "        error.append(model.score(data[predictors].iloc[test, :], outcome[test]))\n",
    "\n",
    "        print(\"Cross-Validation Score : %s\" % \"{0:.2%}\".format(np.mean(error)))\n",
    "\n",
    "    # Fit the model again so that it can be referred outside the function:\n",
    "    model.fit(data[predictors], outcome)\n",
    "\n",
    "    "
   ]
  },
  {
   "cell_type": "code",
   "execution_count": 115,
   "metadata": {},
   "outputs": [],
   "source": [
    "AAPL_data = pd.read_csv('./rsc/AAPL_data.csv')\n",
    "AAPL_data = AAPL_data.dropna()"
   ]
  },
  {
   "cell_type": "code",
   "execution_count": 123,
   "metadata": {},
   "outputs": [
    {
     "name": "stdout",
     "output_type": "stream",
     "text": [
      "Accuracy : 76.39%\n",
      "Cross-Validation Score : 62.50%\n",
      "Cross-Validation Score : 62.15%\n",
      "Cross-Validation Score : 62.04%\n",
      "Cross-Validation Score : 62.33%\n",
      "Cross-Validation Score : 62.22%\n"
     ]
    }
   ],
   "source": [
    "# Random Forest Classifier all features\n",
    "# Use all the features of the nucleus\n",
    "\n",
    "predictor_var = AAPL_data.columns[1:len(AAPL_data)]\n",
    "outcome_var = y\n",
    "model = RandomForestClassifier(n_estimators=100,min_samples_split=25, max_depth=7, max_features=2)\n",
    "classification_model(model, AAPL_data, predictor_var, outcome_var)"
   ]
  },
  {
   "cell_type": "code",
   "execution_count": 124,
   "metadata": {},
   "outputs": [
    {
     "name": "stdout",
     "output_type": "stream",
     "text": [
      "obv_10        0.271281\n",
      "rsi_14        0.199507\n",
      "volume        0.085943\n",
      "close         0.068843\n",
      "ewma_26       0.068001\n",
      "high          0.067302\n",
      "20_day_sma    0.063301\n",
      "ewma_12       0.062951\n",
      "low           0.058627\n",
      "open          0.054243\n",
      "dtype: float64\n"
     ]
    }
   ],
   "source": [
    "featimp = pd.Series(model.feature_importances_, index=predictor_var).sort_values(ascending=False)\n",
    "print(featimp)"
   ]
  },
  {
   "cell_type": "code",
   "execution_count": 130,
   "metadata": {},
   "outputs": [
    {
     "data": {
      "text/html": [
       "<div>\n",
       "<table border=\"1\" class=\"dataframe\">\n",
       "  <thead>\n",
       "    <tr style=\"text-align: right;\">\n",
       "      <th></th>\n",
       "      <th>20_day_sma</th>\n",
       "      <th>close</th>\n",
       "      <th>ewma_12</th>\n",
       "      <th>ewma_26</th>\n",
       "      <th>high</th>\n",
       "      <th>low</th>\n",
       "      <th>obv_10</th>\n",
       "      <th>open</th>\n",
       "      <th>rsi_14</th>\n",
       "      <th>volume</th>\n",
       "      <th>Predicted_Signal</th>\n",
       "      <th>Return</th>\n",
       "      <th>Strategy_Return</th>\n",
       "    </tr>\n",
       "    <tr>\n",
       "      <th>date</th>\n",
       "      <th></th>\n",
       "      <th></th>\n",
       "      <th></th>\n",
       "      <th></th>\n",
       "      <th></th>\n",
       "      <th></th>\n",
       "      <th></th>\n",
       "      <th></th>\n",
       "      <th></th>\n",
       "      <th></th>\n",
       "      <th></th>\n",
       "      <th></th>\n",
       "      <th></th>\n",
       "    </tr>\n",
       "  </thead>\n",
       "  <tbody>\n",
       "    <tr>\n",
       "      <th>2015-01-30</th>\n",
       "      <td>110.6415</td>\n",
       "      <td>117.16</td>\n",
       "      <td>113.100715</td>\n",
       "      <td>111.782535</td>\n",
       "      <td>120.00</td>\n",
       "      <td>116.850</td>\n",
       "      <td>36869040.5</td>\n",
       "      <td>118.40</td>\n",
       "      <td>91.43</td>\n",
       "      <td>83745461.0</td>\n",
       "      <td>1</td>\n",
       "      <td>1.246888</td>\n",
       "      <td>1.246888</td>\n",
       "    </tr>\n",
       "    <tr>\n",
       "      <th>2015-02-02</th>\n",
       "      <td>111.1065</td>\n",
       "      <td>118.63</td>\n",
       "      <td>113.977641</td>\n",
       "      <td>112.415496</td>\n",
       "      <td>119.17</td>\n",
       "      <td>116.080</td>\n",
       "      <td>37070624.7</td>\n",
       "      <td>118.05</td>\n",
       "      <td>92.46</td>\n",
       "      <td>62739100.0</td>\n",
       "      <td>1</td>\n",
       "      <td>0.016858</td>\n",
       "      <td>0.016858</td>\n",
       "    </tr>\n",
       "    <tr>\n",
       "      <th>2015-02-03</th>\n",
       "      <td>111.7265</td>\n",
       "      <td>118.65</td>\n",
       "      <td>114.715157</td>\n",
       "      <td>112.981405</td>\n",
       "      <td>119.09</td>\n",
       "      <td>117.610</td>\n",
       "      <td>39228009.3</td>\n",
       "      <td>118.50</td>\n",
       "      <td>88.13</td>\n",
       "      <td>51915749.0</td>\n",
       "      <td>1</td>\n",
       "      <td>0.764035</td>\n",
       "      <td>0.764035</td>\n",
       "    </tr>\n",
       "    <tr>\n",
       "      <th>2015-02-04</th>\n",
       "      <td>112.3915</td>\n",
       "      <td>119.56</td>\n",
       "      <td>115.476853</td>\n",
       "      <td>113.568741</td>\n",
       "      <td>120.51</td>\n",
       "      <td>118.309</td>\n",
       "      <td>38072992.9</td>\n",
       "      <td>118.50</td>\n",
       "      <td>72.85</td>\n",
       "      <td>70149743.0</td>\n",
       "      <td>1</td>\n",
       "      <td>0.317328</td>\n",
       "      <td>0.317328</td>\n",
       "    </tr>\n",
       "    <tr>\n",
       "      <th>2015-02-05</th>\n",
       "      <td>113.0010</td>\n",
       "      <td>119.94</td>\n",
       "      <td>116.176181</td>\n",
       "      <td>114.129045</td>\n",
       "      <td>120.23</td>\n",
       "      <td>119.250</td>\n",
       "      <td>29055853.4</td>\n",
       "      <td>120.02</td>\n",
       "      <td>74.42</td>\n",
       "      <td>42246245.0</td>\n",
       "      <td>1</td>\n",
       "      <td>-0.845653</td>\n",
       "      <td>-0.845653</td>\n",
       "    </tr>\n",
       "  </tbody>\n",
       "</table>\n",
       "</div>"
      ],
      "text/plain": [
       "            20_day_sma   close     ewma_12     ewma_26    high      low  \\\n",
       "date                                                                      \n",
       "2015-01-30    110.6415  117.16  113.100715  111.782535  120.00  116.850   \n",
       "2015-02-02    111.1065  118.63  113.977641  112.415496  119.17  116.080   \n",
       "2015-02-03    111.7265  118.65  114.715157  112.981405  119.09  117.610   \n",
       "2015-02-04    112.3915  119.56  115.476853  113.568741  120.51  118.309   \n",
       "2015-02-05    113.0010  119.94  116.176181  114.129045  120.23  119.250   \n",
       "\n",
       "                obv_10    open  rsi_14      volume  Predicted_Signal  \\\n",
       "date                                                                   \n",
       "2015-01-30  36869040.5  118.40   91.43  83745461.0                 1   \n",
       "2015-02-02  37070624.7  118.05   92.46  62739100.0                 1   \n",
       "2015-02-03  39228009.3  118.50   88.13  51915749.0                 1   \n",
       "2015-02-04  38072992.9  118.50   72.85  70149743.0                 1   \n",
       "2015-02-05  29055853.4  120.02   74.42  42246245.0                 1   \n",
       "\n",
       "              Return  Strategy_Return  \n",
       "date                                   \n",
       "2015-01-30  1.246888         1.246888  \n",
       "2015-02-02  0.016858         0.016858  \n",
       "2015-02-03  0.764035         0.764035  \n",
       "2015-02-04  0.317328         0.317328  \n",
       "2015-02-05 -0.845653        -0.845653  "
      ]
     },
     "execution_count": 130,
     "metadata": {},
     "output_type": "execute_result"
    }
   ],
   "source": [
    "# predict the buy/sell signals of the test dataset\n",
    "# evaluate against the model in the train dataset\n",
    "AAPL_data['Predicted_Signal'] = model.predict(AAPL_data[predictor_var])\n",
    "\n",
    "# Calculate log returns\n",
    "AAPL_data['Return'] = np.log(AAPL_data.close.shift(-1) / AAPL_data.close)*100\n",
    "AAPL_data['Strategy_Return'] = AAPL_data.Return * AAPL_data.Predicted_Signal\n",
    "\n",
    "AAPL_data.set_index('date',inplace=True)\n",
    "AAPL_data.head()"
   ]
  },
  {
   "cell_type": "code",
   "execution_count": 131,
   "metadata": {},
   "outputs": [
    {
     "data": {
      "image/png": "[encoded data removed]",
      "text/plain": [
       "<Figure size 720x360 with 1 Axes>"
      ]
     },
     "metadata": {},
     "output_type": "display_data"
    }
   ],
   "source": [
    "AAPL_data.Strategy_Return.iloc[split:].cumsum().plot(figsize=(10,5))\n",
    "plt.ylabel(\"Strategy Returns (%)\")\n",
    "plt.title('Apple % returns ')\n",
    "plt.show()"
   ]
  }
 ],
 "metadata": {
  "kernelspec": {
   "display_name": "Python 3",
   "language": "python",
   "name": "python3"
  },
  "language_info": {
   "codemirror_mode": {
    "name": "ipython",
    "version": 3
   },
   "file_extension": ".py",
   "mimetype": "text/x-python",
   "name": "python",
   "nbconvert_exporter": "python",
   "pygments_lexer": "ipython3",
   "version": "3.6.5"
  }
 },
 "nbformat": 4,
 "nbformat_minor": 2
}

{
 "cells": [
  {
   "cell_type": "code",
   "execution_count": 1,
   "metadata": {},
   "outputs": [],
   "source": [
    "import zipline as zp\n",
    "import quandl as qd\n",
    "import pandas as pd\n",
    "import numpy as np\n",
    "from datetime import datetime\n",
    "import pytz"
   ]
  },
  {
   "cell_type": "code",
   "execution_count": 104,
   "metadata": {},
   "outputs": [],
   "source": [
    "start_date = '2015-01-01'\n",
    "end_date = '2018-01-01'\n",
    "\n",
    "companies = ['AAPL', 'MSFT', 'AMZN', 'INTC']\n",
    "# Grab data for select companies\n",
    "qd.ApiConfig.api_key = 'Zx2BTzzcz264ssx748NF'\n",
    "data = qd.get_table('WIKI/PRICES', ticker = companies, date = {'gte': start_date, 'lte': end_date}, paginate=True)"
   ]
  },
  {
   "cell_type": "code",
   "execution_count": 105,
   "metadata": {},
   "outputs": [
    {
     "data": {
      "text/plain": [
       "ticker                        AAPL\n",
       "date           2015-01-02 00:00:00\n",
       "open                        111.39\n",
       "high                        111.44\n",
       "low                         107.35\n",
       "close                       109.33\n",
       "volume                 5.32046e+07\n",
       "ex-dividend                      0\n",
       "split_ratio                      1\n",
       "adj_open                   105.821\n",
       "adj_high                   105.868\n",
       "adj_low                    101.983\n",
       "adj_close                  103.864\n",
       "adj_volume             5.32046e+07\n",
       "Name: 0, dtype: object"
      ]
     },
     "execution_count": 105,
     "metadata": {},
     "output_type": "execute_result"
    }
   ],
   "source": [
    "data.iloc[0]"
   ]
  },
  {
   "cell_type": "code",
   "execution_count": 113,
   "metadata": {},
   "outputs": [],
   "source": [
    "aapl_data = msft_data = amzn_data = intc_data = pd.DataFrame(columns = data.columns)\n",
    "\n",
    "comp_dict = {\n",
    "    'AAPL': pd.DataFrame(columns = data.columns),\n",
    "    'MSFT': pd.DataFrame(columns = data.columns),\n",
    "    'AMZN': pd.DataFrame(columns = data.columns),\n",
    "    'INTC': pd.DataFrame(columns = data.columns)\n",
    "}\n",
    "\n",
    "for i, row in data.iterrows():\n",
    "    if row[0] in dict:\n",
    "        comp_dict[row[0]]  = comp_dict[row[0]].append(pd.Series(row))\n",
    "        "
   ]
  },
  {
   "cell_type": "code",
   "execution_count": 112,
   "metadata": {},
   "outputs": [
    {
     "data": {
      "text/html": [
       "<div>\n",
       "<table border=\"1\" class=\"dataframe\">\n",
       "  <thead>\n",
       "    <tr style=\"text-align: right;\">\n",
       "      <th></th>\n",
       "      <th>ticker</th>\n",
       "      <th>date</th>\n",
       "      <th>open</th>\n",
       "      <th>high</th>\n",
       "      <th>low</th>\n",
       "      <th>close</th>\n",
       "      <th>volume</th>\n",
       "      <th>ex-dividend</th>\n",
       "      <th>split_ratio</th>\n",
       "      <th>adj_open</th>\n",
       "      <th>adj_high</th>\n",
       "      <th>adj_low</th>\n",
       "      <th>adj_close</th>\n",
       "      <th>adj_volume</th>\n",
       "    </tr>\n",
       "  </thead>\n",
       "  <tbody>\n",
       "    <tr>\n",
       "      <th>0</th>\n",
       "      <td>AAPL</td>\n",
       "      <td>2015-01-02</td>\n",
       "      <td>111.39</td>\n",
       "      <td>111.44</td>\n",
       "      <td>107.350</td>\n",
       "      <td>109.33</td>\n",
       "      <td>53204626.0</td>\n",
       "      <td>0.0</td>\n",
       "      <td>1.0</td>\n",
       "      <td>105.820966</td>\n",
       "      <td>105.868466</td>\n",
       "      <td>101.982949</td>\n",
       "      <td>103.863957</td>\n",
       "      <td>53204626.0</td>\n",
       "    </tr>\n",
       "    <tr>\n",
       "      <th>1</th>\n",
       "      <td>AAPL</td>\n",
       "      <td>2015-01-05</td>\n",
       "      <td>108.29</td>\n",
       "      <td>108.65</td>\n",
       "      <td>105.410</td>\n",
       "      <td>106.25</td>\n",
       "      <td>64285491.0</td>\n",
       "      <td>0.0</td>\n",
       "      <td>1.0</td>\n",
       "      <td>102.875953</td>\n",
       "      <td>103.217954</td>\n",
       "      <td>100.139941</td>\n",
       "      <td>100.937944</td>\n",
       "      <td>64285491.0</td>\n",
       "    </tr>\n",
       "    <tr>\n",
       "      <th>2</th>\n",
       "      <td>AAPL</td>\n",
       "      <td>2015-01-06</td>\n",
       "      <td>106.54</td>\n",
       "      <td>107.43</td>\n",
       "      <td>104.630</td>\n",
       "      <td>106.26</td>\n",
       "      <td>65797116.0</td>\n",
       "      <td>0.0</td>\n",
       "      <td>1.0</td>\n",
       "      <td>101.213446</td>\n",
       "      <td>102.058949</td>\n",
       "      <td>99.398938</td>\n",
       "      <td>100.947444</td>\n",
       "      <td>65797116.0</td>\n",
       "    </tr>\n",
       "    <tr>\n",
       "      <th>3</th>\n",
       "      <td>AAPL</td>\n",
       "      <td>2015-01-07</td>\n",
       "      <td>107.20</td>\n",
       "      <td>108.20</td>\n",
       "      <td>106.695</td>\n",
       "      <td>107.75</td>\n",
       "      <td>40105934.0</td>\n",
       "      <td>0.0</td>\n",
       "      <td>1.0</td>\n",
       "      <td>101.840448</td>\n",
       "      <td>102.790453</td>\n",
       "      <td>101.360696</td>\n",
       "      <td>102.362951</td>\n",
       "      <td>40105934.0</td>\n",
       "    </tr>\n",
       "    <tr>\n",
       "      <th>4</th>\n",
       "      <td>AAPL</td>\n",
       "      <td>2015-01-08</td>\n",
       "      <td>109.23</td>\n",
       "      <td>112.15</td>\n",
       "      <td>108.700</td>\n",
       "      <td>111.89</td>\n",
       "      <td>59364547.0</td>\n",
       "      <td>0.0</td>\n",
       "      <td>1.0</td>\n",
       "      <td>103.768957</td>\n",
       "      <td>106.542969</td>\n",
       "      <td>103.265455</td>\n",
       "      <td>106.295968</td>\n",
       "      <td>59364547.0</td>\n",
       "    </tr>\n",
       "  </tbody>\n",
       "</table>\n",
       "</div>"
      ],
      "text/plain": [
       "  ticker       date    open    high      low   close      volume  ex-dividend  \\\n",
       "0   AAPL 2015-01-02  111.39  111.44  107.350  109.33  53204626.0          0.0   \n",
       "1   AAPL 2015-01-05  108.29  108.65  105.410  106.25  64285491.0          0.0   \n",
       "2   AAPL 2015-01-06  106.54  107.43  104.630  106.26  65797116.0          0.0   \n",
       "3   AAPL 2015-01-07  107.20  108.20  106.695  107.75  40105934.0          0.0   \n",
       "4   AAPL 2015-01-08  109.23  112.15  108.700  111.89  59364547.0          0.0   \n",
       "\n",
       "   split_ratio    adj_open    adj_high     adj_low   adj_close  adj_volume  \n",
       "0          1.0  105.820966  105.868466  101.982949  103.863957  53204626.0  \n",
       "1          1.0  102.875953  103.217954  100.139941  100.937944  64285491.0  \n",
       "2          1.0  101.213446  102.058949   99.398938  100.947444  65797116.0  \n",
       "3          1.0  101.840448  102.790453  101.360696  102.362951  40105934.0  \n",
       "4          1.0  103.768957  106.542969  103.265455  106.295968  59364547.0  "
      ]
     },
     "execution_count": 112,
     "metadata": {},
     "output_type": "execute_result"
    }
   ],
   "source": [
    "comp_dict['AAPL'].head()"
   ]
  },
  {
   "cell_type": "code",
   "execution_count": 75,
   "metadata": {},
   "outputs": [
    {
     "data": {
      "text/plain": [
       "Index(['ticker', 'date', 'open', 'high', 'low', 'close', 'volume',\n",
       "       'ex-dividend', 'split_ratio', 'adj_open', 'adj_high', 'adj_low',\n",
       "       'adj_close', 'adj_volume'],\n",
       "      dtype='object')"
      ]
     },
     "execution_count": 75,
     "metadata": {},
     "output_type": "execute_result"
    }
   ],
   "source": [
    "# TODO write function for computing 20 day moving average for each company \n",
    "# store moving averages in another dict for each company"
   ]
  }
 ],
 "metadata": {
  "kernelspec": {
   "display_name": "Python 3",
   "language": "python",
   "name": "python3"
  },
  "language_info": {
   "codemirror_mode": {
    "name": "ipython",
    "version": 3
   },
   "file_extension": ".py",
   "mimetype": "text/x-python",
   "name": "python",
   "nbconvert_exporter": "python",
   "pygments_lexer": "ipython3",
   "version": "3.6.5"
  }
 },
 "nbformat": 4,
 "nbformat_minor": 2
}

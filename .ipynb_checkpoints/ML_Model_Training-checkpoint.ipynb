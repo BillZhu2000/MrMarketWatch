{
 "cells": [
  {
   "cell_type": "code",
   "execution_count": 1,
   "metadata": {},
   "outputs": [],
   "source": [
    "# Machine learning classification libraries\n",
    "from sklearn.svm import SVC\n",
    "from sklearn.metrics import scorer\n",
    "from sklearn.metrics import accuracy_score\n",
    "\n",
    "import pandas as pd\n",
    "import numpy as np\n",
    "from datetime import datetime\n",
    "import matplotlib.pyplot as plt"
   ]
  },
  {
   "cell_type": "code",
   "execution_count": 2,
   "metadata": {},
   "outputs": [],
   "source": [
    "AAPL_data = pd.read_csv('./rsc/AAPL_data.csv')\n",
    "AAPL_data = AAPL_data.dropna()"
   ]
  },
  {
   "cell_type": "code",
   "execution_count": null,
   "metadata": {},
   "outputs": [],
   "source": []
  },
  {
   "cell_type": "code",
   "execution_count": 3,
   "metadata": {},
   "outputs": [
    {
     "name": "stdout",
     "output_type": "stream",
     "text": [
      "[ 1  1  1  1 -1  1  1  1  1  1]\n"
     ]
    }
   ],
   "source": [
    "# +1 means buy -1 means hold\n",
    "# use this to evalute whether the algorithm can tell whether to buy or hold\n",
    "y = np.where(AAPL_data['close'].shift(-1) > AAPL_data['close'],1,-1)\n",
    "print(y[0:10])"
   ]
  },
  {
   "cell_type": "code",
   "execution_count": 4,
   "metadata": {},
   "outputs": [
    {
     "name": "stdout",
     "output_type": "stream",
     "text": [
      "Index(['20_day_sma', 'close', 'ewma_12', 'ewma_26', 'high', 'low', 'obv_10',\n",
      "       'open', 'rsi_14', 'volume'],\n",
      "      dtype='object')\n"
     ]
    }
   ],
   "source": [
    "print(AAPL_data.columns[1:len(AAPL_data)])"
   ]
  },
  {
   "cell_type": "code",
   "execution_count": 5,
   "metadata": {},
   "outputs": [],
   "source": [
    "# X dataset contains predictor variables to predict target variable y\n",
    "# \n",
    "AAPL_data['Open-Close'] = AAPL_data.open - AAPL_data.close\n",
    "AAPL_data['High-Low'] = AAPL_data.high - AAPL_data.low\n",
    " \n",
    "X=AAPL_data[AAPL_data.columns[1:]]"
   ]
  },
  {
   "cell_type": "code",
   "execution_count": 6,
   "metadata": {},
   "outputs": [],
   "source": [
    "split_percentage = 0.8\n",
    "split = int(split_percentage*len(AAPL_data))\n",
    "\n",
    "# Train data set\n",
    "X_train = X[:split]\n",
    "y_train = y[:split]\n",
    " \n",
    "# Test data set\n",
    "X_test = X[split:]\n",
    "y_test = y[split:]"
   ]
  },
  {
   "cell_type": "code",
   "execution_count": 7,
   "metadata": {},
   "outputs": [],
   "source": [
    "cls = SVC().fit(X_train, y_train)"
   ]
  },
  {
   "cell_type": "code",
   "execution_count": 8,
   "metadata": {},
   "outputs": [
    {
     "name": "stdout",
     "output_type": "stream",
     "text": [
      "\n",
      "Train Accuracy: 100.00%\n",
      "Test Accuracy: 52.78%\n"
     ]
    }
   ],
   "source": [
    "# compare accuracy by comparing actual values of trading signal with predicted values of trading signal\n",
    "#\n",
    "accuracy_train = accuracy_score(y_train, cls.predict(X_train))\n",
    " \n",
    "accuracy_test = accuracy_score(y_test, cls.predict(X_test))\n",
    "print('\\nTrain Accuracy:{: .2f}%'.format(accuracy_train*100))\n",
    "print('Test Accuracy:{: .2f}%'.format(accuracy_test*100))"
   ]
  },
  {
   "cell_type": "code",
   "execution_count": 9,
   "metadata": {},
   "outputs": [
    {
     "data": {
      "image/png": "[encoded data removed]",
      "text/plain": [
       "<Figure size 720x360 with 1 Axes>"
      ]
     },
     "metadata": {},
     "output_type": "display_data"
    }
   ],
   "source": [
    "# predict the buy/sell signals of the test dataset\n",
    "# evalute against the model in the train dataset in the next day\n",
    "AAPL_data['Predicted_Signal'] = cls.predict(X)\n",
    " \n",
    "# Calculate log returns\n",
    "AAPL_data['Return'] = np.log(AAPL_data.close.shift(-1) / AAPL_data.close)*100\n",
    "AAPL_data['Strategy_Return'] = AAPL_data.Return * AAPL_data.Predicted_Signal\n",
    "AAPL_data.Strategy_Return.iloc[split:].cumsum().plot(figsize=(10,5))\n",
    "plt.ylabel(\"Strategy Returns (%)\")\n",
    "plt.show()"
   ]
  },
  {
   "cell_type": "code",
   "execution_count": 10,
   "metadata": {},
   "outputs": [],
   "source": [
    "from sklearn.model_selection import KFold\n",
    "from sklearn.linear_model import LogisticRegression\n",
    "from sklearn.ensemble import RandomForestClassifier"
   ]
  },
  {
   "cell_type": "code",
   "execution_count": 11,
   "metadata": {},
   "outputs": [],
   "source": [
    "def classification_model(model, data, predictors, outcome):\n",
    "    # fit the model\n",
    "    model.fit(data[predictors], outcome)\n",
    "    \n",
    "    # Make predictions on the training set\n",
    "    predictions = model.predict(data[predictors])\n",
    "    \n",
    "    # Print accuracy\n",
    "    accuracy = accuracy_score(predictions, outcome)\n",
    "    print(\"Accuracy : %s\" % \"{0:.2%}\".format(accuracy))\n",
    "    \n",
    "    # Perform k-fold cross-validation with 5 folds\n",
    "    kf = KFold(n_splits=5)\n",
    "    error = []\n",
    "    for train, test in kf.split(outcome):\n",
    "        # Filter training data\n",
    "        train_predictors = (data[predictors].iloc[train, :])\n",
    "\n",
    "        # The target we're using to train the algorithm.\n",
    "        train_target = outcome[train]\n",
    "\n",
    "        # Training the algorithm using the predictors and target.\n",
    "        model.fit(train_predictors, train_target)\n",
    "\n",
    "        # Record error from each cross-validation run\n",
    "        error.append(model.score(data[predictors].iloc[test, :], outcome[test]))\n",
    "\n",
    "        print(\"Cross-Validation Score : %s\" % \"{0:.2%}\".format(np.mean(error)))\n",
    "\n",
    "    # Fit the model again so that it can be referred outside the function:\n",
    "    model.fit(data[predictors], outcome)\n",
    "\n",
    "    "
   ]
  },
  {
   "cell_type": "code",
   "execution_count": 12,
   "metadata": {},
   "outputs": [],
   "source": [
    "AAPL_data = pd.read_csv('./rsc/AAPL_data.csv')\n",
    "AAPL_data = AAPL_data.dropna()"
   ]
  },
  {
   "cell_type": "code",
   "execution_count": 13,
   "metadata": {},
   "outputs": [
    {
     "name": "stdout",
     "output_type": "stream",
     "text": [
      "Accuracy : 77.64%\n",
      "Cross-Validation Score : 63.19%\n",
      "Cross-Validation Score : 64.24%\n",
      "Cross-Validation Score : 64.12%\n",
      "Cross-Validation Score : 64.06%\n",
      "Cross-Validation Score : 64.31%\n"
     ]
    }
   ],
   "source": [
    "# Random Forest Classifier all features\n",
    "# Use all the features of the nucleus\n",
    "\n",
    "predictor_var = AAPL_data.columns[1:len(AAPL_data)]\n",
    "outcome_var = y\n",
    "model = RandomForestClassifier(n_estimators=100,min_samples_split=25, max_depth=7, max_features=2)\n",
    "classification_model(model, AAPL_data, predictor_var, outcome_var)"
   ]
  },
  {
   "cell_type": "code",
   "execution_count": 14,
   "metadata": {},
   "outputs": [
    {
     "name": "stdout",
     "output_type": "stream",
     "text": [
      "obv_10        0.254638\n",
      "rsi_14        0.212096\n",
      "volume        0.086894\n",
      "ewma_12       0.073143\n",
      "ewma_26       0.069450\n",
      "low           0.068802\n",
      "close         0.066384\n",
      "20_day_sma    0.062927\n",
      "high          0.056075\n",
      "open          0.049591\n",
      "dtype: float64\n"
     ]
    }
   ],
   "source": [
    "featimp = pd.Series(model.feature_importances_, index=predictor_var).sort_values(ascending=False)\n",
    "print(featimp)"
   ]
  },
  {
   "cell_type": "code",
   "execution_count": 15,
   "metadata": {},
   "outputs": [
    {
     "data": {
      "text/html": [
       "<div>\n",
       "<table border=\"1\" class=\"dataframe\">\n",
       "  <thead>\n",
       "    <tr style=\"text-align: right;\">\n",
       "      <th></th>\n",
       "      <th>20_day_sma</th>\n",
       "      <th>close</th>\n",
       "      <th>ewma_12</th>\n",
       "      <th>ewma_26</th>\n",
       "      <th>high</th>\n",
       "      <th>low</th>\n",
       "      <th>obv_10</th>\n",
       "      <th>open</th>\n",
       "      <th>rsi_14</th>\n",
       "      <th>volume</th>\n",
       "      <th>Predicted_Signal</th>\n",
       "      <th>Return</th>\n",
       "      <th>Strategy_Return</th>\n",
       "    </tr>\n",
       "    <tr>\n",
       "      <th>date</th>\n",
       "      <th></th>\n",
       "      <th></th>\n",
       "      <th></th>\n",
       "      <th></th>\n",
       "      <th></th>\n",
       "      <th></th>\n",
       "      <th></th>\n",
       "      <th></th>\n",
       "      <th></th>\n",
       "      <th></th>\n",
       "      <th></th>\n",
       "      <th></th>\n",
       "      <th></th>\n",
       "    </tr>\n",
       "  </thead>\n",
       "  <tbody>\n",
       "    <tr>\n",
       "      <th>2015-01-30</th>\n",
       "      <td>110.6415</td>\n",
       "      <td>117.16</td>\n",
       "      <td>113.100715</td>\n",
       "      <td>111.782535</td>\n",
       "      <td>120.00</td>\n",
       "      <td>116.850</td>\n",
       "      <td>36869040.5</td>\n",
       "      <td>118.40</td>\n",
       "      <td>91.43</td>\n",
       "      <td>83745461.0</td>\n",
       "      <td>1</td>\n",
       "      <td>1.246888</td>\n",
       "      <td>1.246888</td>\n",
       "    </tr>\n",
       "    <tr>\n",
       "      <th>2015-02-02</th>\n",
       "      <td>111.1065</td>\n",
       "      <td>118.63</td>\n",
       "      <td>113.977641</td>\n",
       "      <td>112.415496</td>\n",
       "      <td>119.17</td>\n",
       "      <td>116.080</td>\n",
       "      <td>37070624.7</td>\n",
       "      <td>118.05</td>\n",
       "      <td>92.46</td>\n",
       "      <td>62739100.0</td>\n",
       "      <td>1</td>\n",
       "      <td>0.016858</td>\n",
       "      <td>0.016858</td>\n",
       "    </tr>\n",
       "    <tr>\n",
       "      <th>2015-02-03</th>\n",
       "      <td>111.7265</td>\n",
       "      <td>118.65</td>\n",
       "      <td>114.715157</td>\n",
       "      <td>112.981405</td>\n",
       "      <td>119.09</td>\n",
       "      <td>117.610</td>\n",
       "      <td>39228009.3</td>\n",
       "      <td>118.50</td>\n",
       "      <td>88.13</td>\n",
       "      <td>51915749.0</td>\n",
       "      <td>1</td>\n",
       "      <td>0.764035</td>\n",
       "      <td>0.764035</td>\n",
       "    </tr>\n",
       "    <tr>\n",
       "      <th>2015-02-04</th>\n",
       "      <td>112.3915</td>\n",
       "      <td>119.56</td>\n",
       "      <td>115.476853</td>\n",
       "      <td>113.568741</td>\n",
       "      <td>120.51</td>\n",
       "      <td>118.309</td>\n",
       "      <td>38072992.9</td>\n",
       "      <td>118.50</td>\n",
       "      <td>72.85</td>\n",
       "      <td>70149743.0</td>\n",
       "      <td>1</td>\n",
       "      <td>0.317328</td>\n",
       "      <td>0.317328</td>\n",
       "    </tr>\n",
       "    <tr>\n",
       "      <th>2015-02-05</th>\n",
       "      <td>113.0010</td>\n",
       "      <td>119.94</td>\n",
       "      <td>116.176181</td>\n",
       "      <td>114.129045</td>\n",
       "      <td>120.23</td>\n",
       "      <td>119.250</td>\n",
       "      <td>29055853.4</td>\n",
       "      <td>120.02</td>\n",
       "      <td>74.42</td>\n",
       "      <td>42246245.0</td>\n",
       "      <td>1</td>\n",
       "      <td>-0.845653</td>\n",
       "      <td>-0.845653</td>\n",
       "    </tr>\n",
       "  </tbody>\n",
       "</table>\n",
       "</div>"
      ],
      "text/plain": [
       "            20_day_sma   close     ewma_12     ewma_26    high      low  \\\n",
       "date                                                                      \n",
       "2015-01-30    110.6415  117.16  113.100715  111.782535  120.00  116.850   \n",
       "2015-02-02    111.1065  118.63  113.977641  112.415496  119.17  116.080   \n",
       "2015-02-03    111.7265  118.65  114.715157  112.981405  119.09  117.610   \n",
       "2015-02-04    112.3915  119.56  115.476853  113.568741  120.51  118.309   \n",
       "2015-02-05    113.0010  119.94  116.176181  114.129045  120.23  119.250   \n",
       "\n",
       "                obv_10    open  rsi_14      volume  Predicted_Signal  \\\n",
       "date                                                                   \n",
       "2015-01-30  36869040.5  118.40   91.43  83745461.0                 1   \n",
       "2015-02-02  37070624.7  118.05   92.46  62739100.0                 1   \n",
       "2015-02-03  39228009.3  118.50   88.13  51915749.0                 1   \n",
       "2015-02-04  38072992.9  118.50   72.85  70149743.0                 1   \n",
       "2015-02-05  29055853.4  120.02   74.42  42246245.0                 1   \n",
       "\n",
       "              Return  Strategy_Return  \n",
       "date                                   \n",
       "2015-01-30  1.246888         1.246888  \n",
       "2015-02-02  0.016858         0.016858  \n",
       "2015-02-03  0.764035         0.764035  \n",
       "2015-02-04  0.317328         0.317328  \n",
       "2015-02-05 -0.845653        -0.845653  "
      ]
     },
     "execution_count": 15,
     "metadata": {},
     "output_type": "execute_result"
    }
   ],
   "source": [
    "# predict the buy/sell signals of the test dataset\n",
    "# evaluate against the model in the train dataset\n",
    "AAPL_data['Predicted_Signal'] = model.predict(AAPL_data[predictor_var])\n",
    "\n",
    "# Calculate log returns\n",
    "AAPL_data['Return'] = np.log(AAPL_data.close.shift(-1) / AAPL_data.close)*100\n",
    "AAPL_data['Strategy_Return'] = AAPL_data.Return * AAPL_data.Predicted_Signal\n",
    "\n",
    "AAPL_data.set_index('date',inplace=True)"
   ]
  },
  {
   "cell_type": "code",
   "execution_count": null,
   "metadata": {},
   "outputs": [],
   "source": []
  },
  {
   "cell_type": "code",
   "execution_count": 20,
   "metadata": {},
   "outputs": [
    {
     "data": {
      "image/png": "[encoded data removed]",
      "text/plain": [
       "<Figure size 720x360 with 1 Axes>"
      ]
     },
     "metadata": {},
     "output_type": "display_data"
    }
   ],
   "source": [
    "AAPL_data.Strategy_Return.iloc[split:].cumsum().plot(figsize=(10,5))\n",
    "plt.ylabel(\"Strategy Returns (%)\")\n",
    "plt.title('Apple % returns ')\n",
    "plt.show()"
   ]
  },
  {
   "cell_type": "code",
   "execution_count": 75,
   "metadata": {},
   "outputs": [],
   "source": [
    "# import functions needed for GBM model\n",
    "from sklearn.ensemble import GradientBoostingClassifier  \n",
    "from sklearn.model_selection import cross_validate\n",
    "from sklearn.model_selection import cross_val_score\n",
    "from sklearn.metrics import accuracy_score\n",
    "from sklearn.grid_search import GridSearchCV   #Perforing grid search\n"
   ]
  },
  {
   "cell_type": "code",
   "execution_count": null,
   "metadata": {},
   "outputs": [],
   "source": []
  },
  {
   "cell_type": "code",
   "execution_count": 57,
   "metadata": {},
   "outputs": [],
   "source": [
    "def model_fit(alg, dtrain, predictors, outcome, performCV=True, printFeatureImportance=True, cv_folds=5):\n",
    "    # Fit algorithm on the data\n",
    "    alg.fit(dtrain[predictors], outcome)\n",
    "    \n",
    "    # Predict training set\n",
    "    dtrain_predictions = alg.predict(dtrain[predictors])\n",
    "    dtrain_predprob = alg.predict_proba(dtrain[predictors])[:,1]\n",
    "    \n",
    "    # Perform Cross-validation\n",
    "    if performCV:\n",
    "        cv_score = cross_val_score(alg, dtrain[predictors], y = outcome, cv=cv_folds, scoring = 'roc_auc')\n",
    "\n",
    "    #Print model report:\n",
    "    print (\"\\nModel Report\")\n",
    "    print (\"Accuracy : %.4g\" % metrics.accuracy_score(y[0:len(y)], dtrain_predictions))\n",
    "    print (\"AUC Score (Train): %f\" % metrics.roc_auc_score(y, dtrain_predprob))\n",
    "            \n",
    "    if performCV:\n",
    "        print (\"CV Score : Mean - %.7g | Std - %.7g | Min - %.7g | Max - %.7g\" % (np.mean(cv_score),np.std(cv_score),np.min(cv_score),np.max(cv_score)))\n",
    "            \n",
    "    #Print Feature Importance:\n",
    "    if printFeatureImportance:\n",
    "        feat_imp = pd.Series(alg.feature_importances_, predictors).sort_values(ascending=False)\n",
    "        feat_imp.plot(kind='bar', title='Feature Importances')\n",
    "        plt.ylabel('Feature Importance Score')\n"
   ]
  },
  {
   "cell_type": "code",
   "execution_count": null,
   "metadata": {},
   "outputs": [],
   "source": [
    "\n",
    "    "
   ]
  },
  {
   "cell_type": "code",
   "execution_count": 101,
   "metadata": {},
   "outputs": [
    {
     "name": "stdout",
     "output_type": "stream",
     "text": [
      "\n",
      "Model Report\n",
      "Accuracy : 0.8986\n",
      "AUC Score (Train): 0.959619\n",
      "CV Score : Mean - 0.6617226 | Std - 0.03740055 | Min - 0.5897683 | Max - 0.6939189\n"
     ]
    },
    {
     "data": {
      "image/png": "[encoded data removed]",
      "text/plain": [
       "<Figure size 432x288 with 1 Axes>"
      ]
     },
     "metadata": {},
     "output_type": "display_data"
    }
   ],
   "source": [
    "AAPL_data = pd.read_csv('./rsc/AAPL_data.csv')\n",
    "AAPL_data = AAPL_data.dropna()\n",
    "AAPL_data['Open-Close'] = AAPL_data.open - AAPL_data.close\n",
    "AAPL_data['High-Low'] = AAPL_data.high - AAPL_data.low\n",
    "# +1 means buy -1 means hold\n",
    "# use this to evalute whether the algorithm can tell whether to buy or hold\n",
    "y = np.where(AAPL_data['close'].shift(-1) > AAPL_data['close'],1,-1)\n",
    "\n",
    "# Choose predictors\n",
    "predictors = AAPL_data.columns[1:len(AAPL_data)]\n",
    "gbm0 = GradientBoostingClassifier(random_state=10)\n",
    "model_fit(gbm0, AAPL_data, predictors, y)\n"
   ]
  },
  {
   "cell_type": "code",
   "execution_count": null,
   "metadata": {},
   "outputs": [],
   "source": []
  },
  {
   "cell_type": "code",
   "execution_count": 115,
   "metadata": {},
   "outputs": [
    {
     "data": {
      "text/plain": [
       "([mean: 0.64277, std: 0.06859, params: {'n_estimators': 20},\n",
       "  mean: 0.64842, std: 0.05570, params: {'n_estimators': 30},\n",
       "  mean: 0.64931, std: 0.05398, params: {'n_estimators': 40},\n",
       "  mean: 0.65064, std: 0.05216, params: {'n_estimators': 50},\n",
       "  mean: 0.65261, std: 0.05455, params: {'n_estimators': 60},\n",
       "  mean: 0.64949, std: 0.05309, params: {'n_estimators': 70},\n",
       "  mean: 0.64760, std: 0.05350, params: {'n_estimators': 80}],\n",
       " {'n_estimators': 60},\n",
       " 0.6526125678473506)"
      ]
     },
     "execution_count": 115,
     "metadata": {},
     "output_type": "execute_result"
    }
   ],
   "source": [
    "# initialize all default parameter values\n",
    "min_samples_split = int(0.01 * len(AAPL_data['date']))\n",
    "min_samples_leaf = 2\n",
    "max_depth = 5\n",
    "max_features = 'sqrt'\n",
    "subsample = 0.8\n",
    "random_state = 10\n",
    "\n",
    "#Choose all predictors except target & IDcols\n",
    "predictors = AAPL_data.columns[1:len(AAPL_data)]\n",
    "param_test1 = {'n_estimators':list(range(20,81,10))}\n",
    "gsearch1 = GridSearchCV(estimator = GradientBoostingClassifier(learning_rate=0.1, min_samples_split=min_samples_split,min_samples_leaf=min_samples_leaf,max_depth=max_depth,max_features=max_features,subsample=subsample,random_state=random_state), \n",
    "param_grid = param_test1, scoring='roc_auc',n_jobs=4,iid=False, cv=5)\n",
    "gsearch1.fit(AAPL_data[AAPL_data.columns[1:len(AAPL_data)]],y)\n",
    "\n",
    "gsearch1.grid_scores_, gsearch1.best_params_, gsearch1.best_score_"
   ]
  },
  {
   "cell_type": "code",
   "execution_count": 117,
   "metadata": {},
   "outputs": [
    {
     "data": {
      "text/plain": [
       "([mean: 0.67026, std: 0.06103, params: {'max_depth': 5, 'min_samples_split': 200},\n",
       "  mean: 0.68071, std: 0.04563, params: {'max_depth': 5, 'min_samples_split': 400},\n",
       "  mean: 0.50000, std: 0.00000, params: {'max_depth': 5, 'min_samples_split': 600},\n",
       "  mean: 0.50000, std: 0.00000, params: {'max_depth': 5, 'min_samples_split': 800},\n",
       "  mean: 0.50000, std: 0.00000, params: {'max_depth': 5, 'min_samples_split': 1000},\n",
       "  mean: 0.66849, std: 0.06051, params: {'max_depth': 7, 'min_samples_split': 200},\n",
       "  mean: 0.68088, std: 0.04565, params: {'max_depth': 7, 'min_samples_split': 400},\n",
       "  mean: 0.50000, std: 0.00000, params: {'max_depth': 7, 'min_samples_split': 600},\n",
       "  mean: 0.50000, std: 0.00000, params: {'max_depth': 7, 'min_samples_split': 800},\n",
       "  mean: 0.50000, std: 0.00000, params: {'max_depth': 7, 'min_samples_split': 1000},\n",
       "  mean: 0.66935, std: 0.05016, params: {'max_depth': 9, 'min_samples_split': 200},\n",
       "  mean: 0.68088, std: 0.04565, params: {'max_depth': 9, 'min_samples_split': 400},\n",
       "  mean: 0.50000, std: 0.00000, params: {'max_depth': 9, 'min_samples_split': 600},\n",
       "  mean: 0.50000, std: 0.00000, params: {'max_depth': 9, 'min_samples_split': 800},\n",
       "  mean: 0.50000, std: 0.00000, params: {'max_depth': 9, 'min_samples_split': 1000},\n",
       "  mean: 0.67035, std: 0.05304, params: {'max_depth': 11, 'min_samples_split': 200},\n",
       "  mean: 0.68088, std: 0.04565, params: {'max_depth': 11, 'min_samples_split': 400},\n",
       "  mean: 0.50000, std: 0.00000, params: {'max_depth': 11, 'min_samples_split': 600},\n",
       "  mean: 0.50000, std: 0.00000, params: {'max_depth': 11, 'min_samples_split': 800},\n",
       "  mean: 0.50000, std: 0.00000, params: {'max_depth': 11, 'min_samples_split': 1000},\n",
       "  mean: 0.67048, std: 0.05784, params: {'max_depth': 13, 'min_samples_split': 200},\n",
       "  mean: 0.68088, std: 0.04565, params: {'max_depth': 13, 'min_samples_split': 400},\n",
       "  mean: 0.50000, std: 0.00000, params: {'max_depth': 13, 'min_samples_split': 600},\n",
       "  mean: 0.50000, std: 0.00000, params: {'max_depth': 13, 'min_samples_split': 800},\n",
       "  mean: 0.50000, std: 0.00000, params: {'max_depth': 13, 'min_samples_split': 1000},\n",
       "  mean: 0.66919, std: 0.05761, params: {'max_depth': 15, 'min_samples_split': 200},\n",
       "  mean: 0.68088, std: 0.04565, params: {'max_depth': 15, 'min_samples_split': 400},\n",
       "  mean: 0.50000, std: 0.00000, params: {'max_depth': 15, 'min_samples_split': 600},\n",
       "  mean: 0.50000, std: 0.00000, params: {'max_depth': 15, 'min_samples_split': 800},\n",
       "  mean: 0.50000, std: 0.00000, params: {'max_depth': 15, 'min_samples_split': 1000}],\n",
       " {'max_depth': 7, 'min_samples_split': 400},\n",
       " 0.6808832633876112)"
      ]
     },
     "execution_count": 117,
     "metadata": {},
     "output_type": "execute_result"
    }
   ],
   "source": [
    "param_test2 = {'max_depth':list(range(5,16,2)), 'min_samples_split': list(range(200,1001,200))}\n",
    "gsearch2 = GridSearchCV(estimator = GradientBoostingClassifier(learning_rate=0.1, n_estimators=60, max_features=max_features, subsample=subsample, random_state=10), \n",
    "param_grid = param_test2, scoring='roc_auc',n_jobs=4,iid=False, cv=5)\n",
    "gsearch2.fit(AAPL_data[AAPL_data.columns[1:len(AAPL_data)]],y)\n",
    "gsearch2.grid_scores_, gsearch2.best_params_, gsearch2.best_score_"
   ]
  },
  {
   "cell_type": "code",
   "execution_count": 118,
   "metadata": {},
   "outputs": [],
   "source": [
    "# here we see that the best max_depth sees to be 7 \n",
    "# best min_samples_leaf seems to be best at 30\n",
    "# min_samples_split seems to be good at 420\n",
    "max_depth = 7"
   ]
  },
  {
   "cell_type": "code",
   "execution_count": 124,
   "metadata": {},
   "outputs": [
    {
     "data": {
      "text/plain": [
       "([mean: 0.66980, std: 0.06020, params: {'min_samples_leaf': 10, 'min_samples_split': 300},\n",
       "  mean: 0.67699, std: 0.06090, params: {'min_samples_leaf': 10, 'min_samples_split': 320},\n",
       "  mean: 0.67276, std: 0.05564, params: {'min_samples_leaf': 10, 'min_samples_split': 340},\n",
       "  mean: 0.67680, std: 0.05738, params: {'min_samples_leaf': 10, 'min_samples_split': 360},\n",
       "  mean: 0.67939, std: 0.05547, params: {'min_samples_leaf': 10, 'min_samples_split': 380},\n",
       "  mean: 0.68308, std: 0.05073, params: {'min_samples_leaf': 10, 'min_samples_split': 400},\n",
       "  mean: 0.68550, std: 0.04849, params: {'min_samples_leaf': 10, 'min_samples_split': 420},\n",
       "  mean: 0.68447, std: 0.04887, params: {'min_samples_leaf': 10, 'min_samples_split': 440},\n",
       "  mean: 0.68215, std: 0.05428, params: {'min_samples_leaf': 10, 'min_samples_split': 460},\n",
       "  mean: 0.50000, std: 0.00000, params: {'min_samples_leaf': 10, 'min_samples_split': 480},\n",
       "  mean: 0.67342, std: 0.04933, params: {'min_samples_leaf': 20, 'min_samples_split': 300},\n",
       "  mean: 0.67306, std: 0.05469, params: {'min_samples_leaf': 20, 'min_samples_split': 320},\n",
       "  mean: 0.68084, std: 0.05654, params: {'min_samples_leaf': 20, 'min_samples_split': 340},\n",
       "  mean: 0.68108, std: 0.05247, params: {'min_samples_leaf': 20, 'min_samples_split': 360},\n",
       "  mean: 0.68132, std: 0.05150, params: {'min_samples_leaf': 20, 'min_samples_split': 380},\n",
       "  mean: 0.68011, std: 0.04999, params: {'min_samples_leaf': 20, 'min_samples_split': 400},\n",
       "  mean: 0.68524, std: 0.04639, params: {'min_samples_leaf': 20, 'min_samples_split': 420},\n",
       "  mean: 0.68324, std: 0.05363, params: {'min_samples_leaf': 20, 'min_samples_split': 440},\n",
       "  mean: 0.68368, std: 0.05366, params: {'min_samples_leaf': 20, 'min_samples_split': 460},\n",
       "  mean: 0.50000, std: 0.00000, params: {'min_samples_leaf': 20, 'min_samples_split': 480},\n",
       "  mean: 0.67334, std: 0.04930, params: {'min_samples_leaf': 30, 'min_samples_split': 300},\n",
       "  mean: 0.67364, std: 0.05591, params: {'min_samples_leaf': 30, 'min_samples_split': 320},\n",
       "  mean: 0.67262, std: 0.04945, params: {'min_samples_leaf': 30, 'min_samples_split': 340},\n",
       "  mean: 0.67952, std: 0.05178, params: {'min_samples_leaf': 30, 'min_samples_split': 360},\n",
       "  mean: 0.68253, std: 0.05028, params: {'min_samples_leaf': 30, 'min_samples_split': 380},\n",
       "  mean: 0.68539, std: 0.05305, params: {'min_samples_leaf': 30, 'min_samples_split': 400},\n",
       "  mean: 0.68685, std: 0.05328, params: {'min_samples_leaf': 30, 'min_samples_split': 420},\n",
       "  mean: 0.68351, std: 0.05691, params: {'min_samples_leaf': 30, 'min_samples_split': 440},\n",
       "  mean: 0.68351, std: 0.05691, params: {'min_samples_leaf': 30, 'min_samples_split': 460},\n",
       "  mean: 0.50000, std: 0.00000, params: {'min_samples_leaf': 30, 'min_samples_split': 480},\n",
       "  mean: 0.67004, std: 0.04793, params: {'min_samples_leaf': 40, 'min_samples_split': 300},\n",
       "  mean: 0.67015, std: 0.05570, params: {'min_samples_leaf': 40, 'min_samples_split': 320},\n",
       "  mean: 0.67872, std: 0.05603, params: {'min_samples_leaf': 40, 'min_samples_split': 340},\n",
       "  mean: 0.67930, std: 0.05271, params: {'min_samples_leaf': 40, 'min_samples_split': 360},\n",
       "  mean: 0.68307, std: 0.05725, params: {'min_samples_leaf': 40, 'min_samples_split': 380},\n",
       "  mean: 0.68190, std: 0.05705, params: {'min_samples_leaf': 40, 'min_samples_split': 400},\n",
       "  mean: 0.67960, std: 0.05044, params: {'min_samples_leaf': 40, 'min_samples_split': 420},\n",
       "  mean: 0.67626, std: 0.05004, params: {'min_samples_leaf': 40, 'min_samples_split': 440},\n",
       "  mean: 0.67626, std: 0.05004, params: {'min_samples_leaf': 40, 'min_samples_split': 460},\n",
       "  mean: 0.50000, std: 0.00000, params: {'min_samples_leaf': 40, 'min_samples_split': 480},\n",
       "  mean: 0.67577, std: 0.05196, params: {'min_samples_leaf': 50, 'min_samples_split': 300},\n",
       "  mean: 0.67500, std: 0.05214, params: {'min_samples_leaf': 50, 'min_samples_split': 320},\n",
       "  mean: 0.67644, std: 0.05276, params: {'min_samples_leaf': 50, 'min_samples_split': 340},\n",
       "  mean: 0.68286, std: 0.05646, params: {'min_samples_leaf': 50, 'min_samples_split': 360},\n",
       "  mean: 0.68419, std: 0.05753, params: {'min_samples_leaf': 50, 'min_samples_split': 380},\n",
       "  mean: 0.68011, std: 0.05362, params: {'min_samples_leaf': 50, 'min_samples_split': 400},\n",
       "  mean: 0.68039, std: 0.05353, params: {'min_samples_leaf': 50, 'min_samples_split': 420},\n",
       "  mean: 0.68039, std: 0.05353, params: {'min_samples_leaf': 50, 'min_samples_split': 440},\n",
       "  mean: 0.68039, std: 0.05353, params: {'min_samples_leaf': 50, 'min_samples_split': 460},\n",
       "  mean: 0.50000, std: 0.00000, params: {'min_samples_leaf': 50, 'min_samples_split': 480},\n",
       "  mean: 0.67763, std: 0.05301, params: {'min_samples_leaf': 60, 'min_samples_split': 300},\n",
       "  mean: 0.67518, std: 0.05188, params: {'min_samples_leaf': 60, 'min_samples_split': 320},\n",
       "  mean: 0.67703, std: 0.05271, params: {'min_samples_leaf': 60, 'min_samples_split': 340},\n",
       "  mean: 0.68101, std: 0.05311, params: {'min_samples_leaf': 60, 'min_samples_split': 360},\n",
       "  mean: 0.68232, std: 0.05387, params: {'min_samples_leaf': 60, 'min_samples_split': 380},\n",
       "  mean: 0.67649, std: 0.05015, params: {'min_samples_leaf': 60, 'min_samples_split': 400},\n",
       "  mean: 0.68039, std: 0.05257, params: {'min_samples_leaf': 60, 'min_samples_split': 420},\n",
       "  mean: 0.68039, std: 0.05257, params: {'min_samples_leaf': 60, 'min_samples_split': 440},\n",
       "  mean: 0.68039, std: 0.05257, params: {'min_samples_leaf': 60, 'min_samples_split': 460},\n",
       "  mean: 0.50000, std: 0.00000, params: {'min_samples_leaf': 60, 'min_samples_split': 480},\n",
       "  mean: 0.68221, std: 0.05349, params: {'min_samples_leaf': 70, 'min_samples_split': 300},\n",
       "  mean: 0.68209, std: 0.05006, params: {'min_samples_leaf': 70, 'min_samples_split': 320},\n",
       "  mean: 0.68127, std: 0.05582, params: {'min_samples_leaf': 70, 'min_samples_split': 340},\n",
       "  mean: 0.68185, std: 0.05193, params: {'min_samples_leaf': 70, 'min_samples_split': 360},\n",
       "  mean: 0.68400, std: 0.05549, params: {'min_samples_leaf': 70, 'min_samples_split': 380},\n",
       "  mean: 0.68138, std: 0.05402, params: {'min_samples_leaf': 70, 'min_samples_split': 400},\n",
       "  mean: 0.68138, std: 0.05402, params: {'min_samples_leaf': 70, 'min_samples_split': 420},\n",
       "  mean: 0.68138, std: 0.05402, params: {'min_samples_leaf': 70, 'min_samples_split': 440},\n",
       "  mean: 0.68138, std: 0.05402, params: {'min_samples_leaf': 70, 'min_samples_split': 460},\n",
       "  mean: 0.50000, std: 0.00000, params: {'min_samples_leaf': 70, 'min_samples_split': 480}],\n",
       " {'min_samples_leaf': 30, 'min_samples_split': 420},\n",
       " 0.6868486486486487)"
      ]
     },
     "execution_count": 124,
     "metadata": {},
     "output_type": "execute_result"
    }
   ],
   "source": [
    "param_test3 = {'min_samples_split':list(range(300,500,20)), 'min_samples_leaf':list(range(10,80,10))}\n",
    "gsearch3 = GridSearchCV(estimator = GradientBoostingClassifier(learning_rate=0.1, n_estimators=60,max_depth=max_depth,max_features=max_features, subsample=subsample, random_state=10), \n",
    "param_grid = param_test3, scoring='roc_auc',n_jobs=4,iid=False, cv=5)\n",
    "gsearch3.fit(AAPL_data[AAPL_data.columns[1:len(AAPL_data)]],y)\n",
    "gsearch3.grid_scores_, gsearch3.best_params_, gsearch3.best_score_"
   ]
  },
  {
   "cell_type": "code",
   "execution_count": 131,
   "metadata": {},
   "outputs": [
    {
     "name": "stdout",
     "output_type": "stream",
     "text": [
      "12\n"
     ]
    }
   ],
   "source": [
    "print(len(AAPL_data.columns[1:]))"
   ]
  },
  {
   "cell_type": "code",
   "execution_count": 132,
   "metadata": {
    "scrolled": true
   },
   "outputs": [
    {
     "data": {
      "text/plain": [
       "([mean: 0.63184, std: 0.06148, params: {'max_features': 1},\n",
       "  mean: 0.68685, std: 0.05328, params: {'max_features': 3},\n",
       "  mean: 0.69005, std: 0.05927, params: {'max_features': 5},\n",
       "  mean: 0.68779, std: 0.05016, params: {'max_features': 7},\n",
       "  mean: 0.69788, std: 0.05214, params: {'max_features': 9},\n",
       "  mean: 0.69795, std: 0.05032, params: {'max_features': 11}],\n",
       " {'max_features': 11},\n",
       " 0.6979486654356221)"
      ]
     },
     "execution_count": 132,
     "metadata": {},
     "output_type": "execute_result"
    }
   ],
   "source": [
    "min_samples_leaf = 30\n",
    "min_samples_split = 420\n",
    "\n",
    "param_test4 = {'max_features':list(range(1,len(AAPL_data.columns[1:]),2))}\n",
    "gsearch4 = GridSearchCV(estimator = GradientBoostingClassifier(learning_rate=0.1, n_estimators=60,max_depth=max_depth, min_samples_split=min_samples_split, min_samples_leaf=min_samples_leaf, subsample=subsample, random_state=10),\n",
    "param_grid = param_test4, scoring='roc_auc',n_jobs=4,iid=False, cv=5)\n",
    "gsearch4.fit(AAPL_data[AAPL_data.columns[1:len(AAPL_data)]],y)\n",
    "gsearch4.grid_scores_, gsearch4.best_params_, gsearch4.best_score_"
   ]
  },
  {
   "cell_type": "code",
   "execution_count": 146,
   "metadata": {},
   "outputs": [
    {
     "name": "stdout",
     "output_type": "stream",
     "text": [
      "7\n",
      "420\n",
      "30\n",
      "0.8\n",
      "10\n",
      "11\n"
     ]
    }
   ],
   "source": [
    "parameter_dict = {\n",
    "    'max_depth': max_depth,\n",
    "    'min_samples_split': min_samples_split,\n",
    "    'min_samples_leaf': min_samples_leaf,\n",
    "    'subsample': subsample,\n",
    "    'random_state': random_state,\n",
    "    'max_features': 11\n",
    "}\n",
    "\n",
    "for param in parameter_dict:\n",
    "    print(parameter_dict[param])"
   ]
  },
  {
   "cell_type": "code",
   "execution_count": 147,
   "metadata": {},
   "outputs": [
    {
     "name": "stdout",
     "output_type": "stream",
     "text": [
      "\n",
      "Model Report\n",
      "Accuracy : 0.7236\n",
      "AUC Score (Train): 0.792387\n",
      "CV Score : Mean - 0.6979487 | Std - 0.05031661 | Min - 0.6165058 | Max - 0.7483591\n"
     ]
    },
    {
     "data": {
      "image/png": "[encoded data removed]",
      "text/plain": [
       "<Figure size 432x288 with 1 Axes>"
      ]
     },
     "metadata": {},
     "output_type": "display_data"
    }
   ],
   "source": [
    "# New training parameters after tuning \n",
    "# min_samples_leaf = 30\n",
    "# min_samples_split = 420\n",
    "# max_features = 11\n",
    "# max_depth = 7\n",
    "# subsample = 0.8\n",
    "# random_state = 10\n",
    "\n",
    "AAPL_data = pd.read_csv('./rsc/AAPL_data.csv')\n",
    "AAPL_data = AAPL_data.dropna()\n",
    "AAPL_data['Open-Close'] = AAPL_data.open - AAPL_data.close\n",
    "AAPL_data['High-Low'] = AAPL_data.high - AAPL_data.low\n",
    "# +1 means buy -1 means hold\n",
    "# use this to evalute whether the algorithm can tell whether to buy or hold\n",
    "y = np.where(AAPL_data['close'].shift(-1) > AAPL_data['close'],1,-1)\n",
    "\n",
    "# Choose predictors\n",
    "predictors = AAPL_data.columns[1:len(AAPL_data)]\n",
    "gbm0 = GradientBoostingClassifier(learning_rate=0.1, n_estimators=60,max_depth=parameter_dict['max_depth'],min_samples_split=parameter_dict['min_samples_split'], min_samples_leaf= parameter_dict['min_samples_leaf'], subsample=parameter_dict['subsample'], random_state=parameter_dict['random_state'],max_features=parameter_dict['max_features'])\n",
    "model_fit(gbm0, AAPL_data, predictors, y)\n"
   ]
  },
  {
   "cell_type": "code",
   "execution_count": 148,
   "metadata": {},
   "outputs": [],
   "source": [
    "# call gm0.predict(X) to receive Y predictions"
   ]
  }
 ],
 "metadata": {
  "kernelspec": {
   "display_name": "Python 3",
   "language": "python",
   "name": "python3"
  },
  "language_info": {
   "codemirror_mode": {
    "name": "ipython",
    "version": 3
   },
   "file_extension": ".py",
   "mimetype": "text/x-python",
   "name": "python",
   "nbconvert_exporter": "python",
   "pygments_lexer": "ipython3",
   "version": "3.6.5"
  }
 },
 "nbformat": 4,
 "nbformat_minor": 2
}
